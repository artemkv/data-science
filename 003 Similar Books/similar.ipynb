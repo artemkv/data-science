{
 "cells": [
  {
   "cell_type": "markdown",
   "metadata": {},
   "source": [
    "# Cluster similar books together for suggestions\n",
    "\n",
    "Based on the dataset created from the book catalog of the site audiocite.net"
   ]
  },
  {
   "cell_type": "markdown",
   "metadata": {},
   "source": [
    "## Import basic libraries"
   ]
  },
  {
   "cell_type": "code",
   "execution_count": 1,
   "metadata": {},
   "outputs": [],
   "source": [
    "import pandas as pd\n",
    "import matplotlib.pyplot as plt\n",
    "\n",
    "%matplotlib inline"
   ]
  },
  {
   "cell_type": "markdown",
   "metadata": {},
   "source": [
    "## Load and explore the dataset"
   ]
  },
  {
   "cell_type": "code",
   "execution_count": 2,
   "metadata": {},
   "outputs": [],
   "source": [
    "df = pd.read_csv(\"./books-data.csv\")"
   ]
  },
  {
   "cell_type": "code",
   "execution_count": 3,
   "metadata": {},
   "outputs": [
    {
     "data": {
      "text/plain": [
       "(3651, 342)"
      ]
     },
     "execution_count": 3,
     "metadata": {},
     "output_type": "execute_result"
    }
   ],
   "source": [
    "df.shape"
   ]
  },
  {
   "cell_type": "code",
   "execution_count": 4,
   "metadata": {},
   "outputs": [
    {
     "data": {
      "text/html": [
       "<div>\n",
       "<style scoped>\n",
       "    .dataframe tbody tr th:only-of-type {\n",
       "        vertical-align: middle;\n",
       "    }\n",
       "\n",
       "    .dataframe tbody tr th {\n",
       "        vertical-align: top;\n",
       "    }\n",
       "\n",
       "    .dataframe thead th {\n",
       "        text-align: right;\n",
       "    }\n",
       "</style>\n",
       "<table border=\"1\" class=\"dataframe\">\n",
       "  <thead>\n",
       "    <tr style=\"text-align: right;\">\n",
       "      <th></th>\n",
       "      <th>23</th>\n",
       "      <th>1</th>\n",
       "      <th>R</th>\n",
       "      <th>139</th>\n",
       "      <th>77515</th>\n",
       "      <th>1.1</th>\n",
       "      <th>1.2</th>\n",
       "      <th>1.3</th>\n",
       "      <th>1.4</th>\n",
       "      <th>1.5</th>\n",
       "      <th>...</th>\n",
       "      <th>0.321</th>\n",
       "      <th>0.322</th>\n",
       "      <th>0.323</th>\n",
       "      <th>0.324</th>\n",
       "      <th>0.325</th>\n",
       "      <th>0.326</th>\n",
       "      <th>0.327</th>\n",
       "      <th>0.328</th>\n",
       "      <th>0.329</th>\n",
       "      <th>0.330</th>\n",
       "    </tr>\n",
       "  </thead>\n",
       "  <tbody>\n",
       "    <tr>\n",
       "      <th>0</th>\n",
       "      <td>24</td>\n",
       "      <td>2</td>\n",
       "      <td>C</td>\n",
       "      <td>60</td>\n",
       "      <td>6901</td>\n",
       "      <td>2</td>\n",
       "      <td>0</td>\n",
       "      <td>0</td>\n",
       "      <td>0</td>\n",
       "      <td>1</td>\n",
       "      <td>...</td>\n",
       "      <td>0</td>\n",
       "      <td>0</td>\n",
       "      <td>0</td>\n",
       "      <td>0</td>\n",
       "      <td>0</td>\n",
       "      <td>0</td>\n",
       "      <td>0</td>\n",
       "      <td>0</td>\n",
       "      <td>0</td>\n",
       "      <td>0</td>\n",
       "    </tr>\n",
       "    <tr>\n",
       "      <th>1</th>\n",
       "      <td>61</td>\n",
       "      <td>3</td>\n",
       "      <td>R</td>\n",
       "      <td>88</td>\n",
       "      <td>22623</td>\n",
       "      <td>1</td>\n",
       "      <td>0</td>\n",
       "      <td>1</td>\n",
       "      <td>0</td>\n",
       "      <td>1</td>\n",
       "      <td>...</td>\n",
       "      <td>0</td>\n",
       "      <td>0</td>\n",
       "      <td>0</td>\n",
       "      <td>0</td>\n",
       "      <td>0</td>\n",
       "      <td>0</td>\n",
       "      <td>0</td>\n",
       "      <td>0</td>\n",
       "      <td>0</td>\n",
       "      <td>0</td>\n",
       "    </tr>\n",
       "    <tr>\n",
       "      <th>2</th>\n",
       "      <td>66</td>\n",
       "      <td>4</td>\n",
       "      <td>C</td>\n",
       "      <td>40</td>\n",
       "      <td>24285</td>\n",
       "      <td>2</td>\n",
       "      <td>0</td>\n",
       "      <td>0</td>\n",
       "      <td>0</td>\n",
       "      <td>1</td>\n",
       "      <td>...</td>\n",
       "      <td>0</td>\n",
       "      <td>0</td>\n",
       "      <td>0</td>\n",
       "      <td>0</td>\n",
       "      <td>0</td>\n",
       "      <td>0</td>\n",
       "      <td>0</td>\n",
       "      <td>0</td>\n",
       "      <td>0</td>\n",
       "      <td>0</td>\n",
       "    </tr>\n",
       "    <tr>\n",
       "      <th>3</th>\n",
       "      <td>67</td>\n",
       "      <td>5</td>\n",
       "      <td>D</td>\n",
       "      <td>28</td>\n",
       "      <td>11687</td>\n",
       "      <td>1</td>\n",
       "      <td>0</td>\n",
       "      <td>1</td>\n",
       "      <td>0</td>\n",
       "      <td>1</td>\n",
       "      <td>...</td>\n",
       "      <td>0</td>\n",
       "      <td>0</td>\n",
       "      <td>0</td>\n",
       "      <td>0</td>\n",
       "      <td>0</td>\n",
       "      <td>0</td>\n",
       "      <td>0</td>\n",
       "      <td>0</td>\n",
       "      <td>0</td>\n",
       "      <td>0</td>\n",
       "    </tr>\n",
       "    <tr>\n",
       "      <th>4</th>\n",
       "      <td>68</td>\n",
       "      <td>5</td>\n",
       "      <td>R</td>\n",
       "      <td>69</td>\n",
       "      <td>8808</td>\n",
       "      <td>1</td>\n",
       "      <td>0</td>\n",
       "      <td>0</td>\n",
       "      <td>0</td>\n",
       "      <td>1</td>\n",
       "      <td>...</td>\n",
       "      <td>0</td>\n",
       "      <td>0</td>\n",
       "      <td>0</td>\n",
       "      <td>0</td>\n",
       "      <td>0</td>\n",
       "      <td>0</td>\n",
       "      <td>0</td>\n",
       "      <td>0</td>\n",
       "      <td>0</td>\n",
       "      <td>0</td>\n",
       "    </tr>\n",
       "  </tbody>\n",
       "</table>\n",
       "<p>5 rows × 342 columns</p>\n",
       "</div>"
      ],
      "text/plain": [
       "   23  1  R  139  77515  1.1  1.2  1.3  1.4  1.5  ...  0.321  0.322  0.323  \\\n",
       "0  24  2  C   60   6901    2    0    0    0    1  ...      0      0      0   \n",
       "1  61  3  R   88  22623    1    0    1    0    1  ...      0      0      0   \n",
       "2  66  4  C   40  24285    2    0    0    0    1  ...      0      0      0   \n",
       "3  67  5  D   28  11687    1    0    1    0    1  ...      0      0      0   \n",
       "4  68  5  R   69   8808    1    0    0    0    1  ...      0      0      0   \n",
       "\n",
       "   0.324  0.325  0.326  0.327  0.328  0.329  0.330  \n",
       "0      0      0      0      0      0      0      0  \n",
       "1      0      0      0      0      0      0      0  \n",
       "2      0      0      0      0      0      0      0  \n",
       "3      0      0      0      0      0      0      0  \n",
       "4      0      0      0      0      0      0      0  \n",
       "\n",
       "[5 rows x 342 columns]"
      ]
     },
     "execution_count": 4,
     "metadata": {},
     "output_type": "execute_result"
    }
   ],
   "source": [
    "df.head(5)"
   ]
  },
  {
   "cell_type": "markdown",
   "metadata": {},
   "source": [
    "### Definition of features\n",
    "\n",
    "| Feature  | Description | Comments |\n",
    "|--------------|-------------|--------|\n",
    "| id | Book ID | |\n",
    "| author | Encoded book author | All unique authors are converted to unique numbers |\n",
    "| genre | The genre | 'R' for 'Romain' etc. |\n",
    "| duration | Duration in full minutes | |\n",
    "| downloads | Number of downloads | |\n",
    "| reader | Encoded reader | All unique readers are converted to unique numbers |\n",
    "| tagN | If the tag is present | All tags are encoded using numbers |"
   ]
  },
  {
   "cell_type": "markdown",
   "metadata": {},
   "source": [
    "## Feature Selection"
   ]
  },
  {
   "cell_type": "markdown",
   "metadata": {},
   "source": [
    "Tags are encoded using one hot encoding, which results in a very sparse matrix. We'll try to apply the feature selection to choose the tags that are most valuable."
   ]
  },
  {
   "cell_type": "markdown",
   "metadata": {},
   "source": [
    "### Remove features with low variance"
   ]
  },
  {
   "cell_type": "code",
   "execution_count": 5,
   "metadata": {},
   "outputs": [],
   "source": [
    "from sklearn.feature_selection import VarianceThreshold\n",
    "\n",
    "sel = VarianceThreshold(threshold=(.8 * (1 - .8)))\n",
    "df_selected = pd.DataFrame(sel.fit_transform(df.iloc[:, 6:]))"
   ]
  },
  {
   "cell_type": "code",
   "execution_count": 6,
   "metadata": {},
   "outputs": [],
   "source": [
    "df_selected = pd.concat([df.iloc[:, 0:6], df_selected], axis = 1)\n",
    "df_selected.columns = ['id', 'author', 'genre', 'duration', 'downloads', 'reader', 'tag_1', 'tag_2', 'tag_3']"
   ]
  },
  {
   "cell_type": "code",
   "execution_count": 7,
   "metadata": {},
   "outputs": [
    {
     "data": {
      "text/plain": [
       "(3651, 9)"
      ]
     },
     "execution_count": 7,
     "metadata": {},
     "output_type": "execute_result"
    }
   ],
   "source": [
    "df_selected.shape"
   ]
  },
  {
   "cell_type": "code",
   "execution_count": 8,
   "metadata": {},
   "outputs": [
    {
     "data": {
      "text/html": [
       "<div>\n",
       "<style scoped>\n",
       "    .dataframe tbody tr th:only-of-type {\n",
       "        vertical-align: middle;\n",
       "    }\n",
       "\n",
       "    .dataframe tbody tr th {\n",
       "        vertical-align: top;\n",
       "    }\n",
       "\n",
       "    .dataframe thead th {\n",
       "        text-align: right;\n",
       "    }\n",
       "</style>\n",
       "<table border=\"1\" class=\"dataframe\">\n",
       "  <thead>\n",
       "    <tr style=\"text-align: right;\">\n",
       "      <th></th>\n",
       "      <th>id</th>\n",
       "      <th>author</th>\n",
       "      <th>genre</th>\n",
       "      <th>duration</th>\n",
       "      <th>downloads</th>\n",
       "      <th>reader</th>\n",
       "      <th>tag_1</th>\n",
       "      <th>tag_2</th>\n",
       "      <th>tag_3</th>\n",
       "    </tr>\n",
       "  </thead>\n",
       "  <tbody>\n",
       "    <tr>\n",
       "      <th>0</th>\n",
       "      <td>24</td>\n",
       "      <td>2</td>\n",
       "      <td>C</td>\n",
       "      <td>60</td>\n",
       "      <td>6901</td>\n",
       "      <td>2</td>\n",
       "      <td>1</td>\n",
       "      <td>0</td>\n",
       "      <td>0</td>\n",
       "    </tr>\n",
       "    <tr>\n",
       "      <th>1</th>\n",
       "      <td>61</td>\n",
       "      <td>3</td>\n",
       "      <td>R</td>\n",
       "      <td>88</td>\n",
       "      <td>22623</td>\n",
       "      <td>1</td>\n",
       "      <td>1</td>\n",
       "      <td>1</td>\n",
       "      <td>0</td>\n",
       "    </tr>\n",
       "    <tr>\n",
       "      <th>2</th>\n",
       "      <td>66</td>\n",
       "      <td>4</td>\n",
       "      <td>C</td>\n",
       "      <td>40</td>\n",
       "      <td>24285</td>\n",
       "      <td>2</td>\n",
       "      <td>1</td>\n",
       "      <td>0</td>\n",
       "      <td>0</td>\n",
       "    </tr>\n",
       "    <tr>\n",
       "      <th>3</th>\n",
       "      <td>67</td>\n",
       "      <td>5</td>\n",
       "      <td>D</td>\n",
       "      <td>28</td>\n",
       "      <td>11687</td>\n",
       "      <td>1</td>\n",
       "      <td>1</td>\n",
       "      <td>0</td>\n",
       "      <td>0</td>\n",
       "    </tr>\n",
       "    <tr>\n",
       "      <th>4</th>\n",
       "      <td>68</td>\n",
       "      <td>5</td>\n",
       "      <td>R</td>\n",
       "      <td>69</td>\n",
       "      <td>8808</td>\n",
       "      <td>1</td>\n",
       "      <td>1</td>\n",
       "      <td>1</td>\n",
       "      <td>0</td>\n",
       "    </tr>\n",
       "    <tr>\n",
       "      <th>5</th>\n",
       "      <td>70</td>\n",
       "      <td>6</td>\n",
       "      <td>N</td>\n",
       "      <td>9</td>\n",
       "      <td>4503</td>\n",
       "      <td>2</td>\n",
       "      <td>1</td>\n",
       "      <td>1</td>\n",
       "      <td>1</td>\n",
       "    </tr>\n",
       "    <tr>\n",
       "      <th>6</th>\n",
       "      <td>72</td>\n",
       "      <td>7</td>\n",
       "      <td>PH</td>\n",
       "      <td>83</td>\n",
       "      <td>19314</td>\n",
       "      <td>3</td>\n",
       "      <td>1</td>\n",
       "      <td>0</td>\n",
       "      <td>0</td>\n",
       "    </tr>\n",
       "    <tr>\n",
       "      <th>7</th>\n",
       "      <td>74</td>\n",
       "      <td>6</td>\n",
       "      <td>N</td>\n",
       "      <td>18</td>\n",
       "      <td>6707</td>\n",
       "      <td>2</td>\n",
       "      <td>1</td>\n",
       "      <td>1</td>\n",
       "      <td>0</td>\n",
       "    </tr>\n",
       "    <tr>\n",
       "      <th>8</th>\n",
       "      <td>77</td>\n",
       "      <td>8</td>\n",
       "      <td>C</td>\n",
       "      <td>89</td>\n",
       "      <td>6346</td>\n",
       "      <td>2</td>\n",
       "      <td>1</td>\n",
       "      <td>0</td>\n",
       "      <td>0</td>\n",
       "    </tr>\n",
       "    <tr>\n",
       "      <th>9</th>\n",
       "      <td>78</td>\n",
       "      <td>9</td>\n",
       "      <td>R</td>\n",
       "      <td>370</td>\n",
       "      <td>17842</td>\n",
       "      <td>4</td>\n",
       "      <td>1</td>\n",
       "      <td>0</td>\n",
       "      <td>0</td>\n",
       "    </tr>\n",
       "  </tbody>\n",
       "</table>\n",
       "</div>"
      ],
      "text/plain": [
       "   id  author genre  duration  downloads  reader  tag_1  tag_2  tag_3\n",
       "0  24       2     C        60       6901       2      1      0      0\n",
       "1  61       3     R        88      22623       1      1      1      0\n",
       "2  66       4     C        40      24285       2      1      0      0\n",
       "3  67       5     D        28      11687       1      1      0      0\n",
       "4  68       5     R        69       8808       1      1      1      0\n",
       "5  70       6     N         9       4503       2      1      1      1\n",
       "6  72       7    PH        83      19314       3      1      0      0\n",
       "7  74       6     N        18       6707       2      1      1      0\n",
       "8  77       8     C        89       6346       2      1      0      0\n",
       "9  78       9     R       370      17842       4      1      0      0"
      ]
     },
     "execution_count": 8,
     "metadata": {},
     "output_type": "execute_result"
    }
   ],
   "source": [
    "df_selected.head(10)"
   ]
  },
  {
   "cell_type": "code",
   "execution_count": 9,
   "metadata": {},
   "outputs": [],
   "source": [
    "df = df_selected"
   ]
  },
  {
   "cell_type": "markdown",
   "metadata": {},
   "source": [
    "## Mold the data"
   ]
  },
  {
   "cell_type": "markdown",
   "metadata": {},
   "source": [
    "Change genre from string to float"
   ]
  },
  {
   "cell_type": "code",
   "execution_count": 10,
   "metadata": {},
   "outputs": [],
   "source": [
    "genre_map = {'AN': 1.0, 'JN': 2.0, 'E': 3.0, 'C': 4.0, 'CS': 5.0, 'D': 6.0, 'F': 7.0, 'H': 8.0, 'N': 9.0, 'PH': 10.0, 'PA': 11.0, 'P': 12.0, 'RL': 13.0, 'R': 14.0, 'SF': 15.0, 'TH': 16.0}\n",
    "df['genre'] = df['genre'].map(genre_map)"
   ]
  },
  {
   "cell_type": "code",
   "execution_count": 11,
   "metadata": {},
   "outputs": [
    {
     "data": {
      "text/html": [
       "<div>\n",
       "<style scoped>\n",
       "    .dataframe tbody tr th:only-of-type {\n",
       "        vertical-align: middle;\n",
       "    }\n",
       "\n",
       "    .dataframe tbody tr th {\n",
       "        vertical-align: top;\n",
       "    }\n",
       "\n",
       "    .dataframe thead th {\n",
       "        text-align: right;\n",
       "    }\n",
       "</style>\n",
       "<table border=\"1\" class=\"dataframe\">\n",
       "  <thead>\n",
       "    <tr style=\"text-align: right;\">\n",
       "      <th></th>\n",
       "      <th>id</th>\n",
       "      <th>author</th>\n",
       "      <th>genre</th>\n",
       "      <th>duration</th>\n",
       "      <th>downloads</th>\n",
       "      <th>reader</th>\n",
       "      <th>tag_1</th>\n",
       "      <th>tag_2</th>\n",
       "      <th>tag_3</th>\n",
       "    </tr>\n",
       "  </thead>\n",
       "  <tbody>\n",
       "    <tr>\n",
       "      <th>0</th>\n",
       "      <td>24</td>\n",
       "      <td>2</td>\n",
       "      <td>4.0</td>\n",
       "      <td>60</td>\n",
       "      <td>6901</td>\n",
       "      <td>2</td>\n",
       "      <td>1</td>\n",
       "      <td>0</td>\n",
       "      <td>0</td>\n",
       "    </tr>\n",
       "    <tr>\n",
       "      <th>1</th>\n",
       "      <td>61</td>\n",
       "      <td>3</td>\n",
       "      <td>14.0</td>\n",
       "      <td>88</td>\n",
       "      <td>22623</td>\n",
       "      <td>1</td>\n",
       "      <td>1</td>\n",
       "      <td>1</td>\n",
       "      <td>0</td>\n",
       "    </tr>\n",
       "    <tr>\n",
       "      <th>2</th>\n",
       "      <td>66</td>\n",
       "      <td>4</td>\n",
       "      <td>4.0</td>\n",
       "      <td>40</td>\n",
       "      <td>24285</td>\n",
       "      <td>2</td>\n",
       "      <td>1</td>\n",
       "      <td>0</td>\n",
       "      <td>0</td>\n",
       "    </tr>\n",
       "    <tr>\n",
       "      <th>3</th>\n",
       "      <td>67</td>\n",
       "      <td>5</td>\n",
       "      <td>6.0</td>\n",
       "      <td>28</td>\n",
       "      <td>11687</td>\n",
       "      <td>1</td>\n",
       "      <td>1</td>\n",
       "      <td>0</td>\n",
       "      <td>0</td>\n",
       "    </tr>\n",
       "    <tr>\n",
       "      <th>4</th>\n",
       "      <td>68</td>\n",
       "      <td>5</td>\n",
       "      <td>14.0</td>\n",
       "      <td>69</td>\n",
       "      <td>8808</td>\n",
       "      <td>1</td>\n",
       "      <td>1</td>\n",
       "      <td>1</td>\n",
       "      <td>0</td>\n",
       "    </tr>\n",
       "  </tbody>\n",
       "</table>\n",
       "</div>"
      ],
      "text/plain": [
       "   id  author  genre  duration  downloads  reader  tag_1  tag_2  tag_3\n",
       "0  24       2    4.0        60       6901       2      1      0      0\n",
       "1  61       3   14.0        88      22623       1      1      1      0\n",
       "2  66       4    4.0        40      24285       2      1      0      0\n",
       "3  67       5    6.0        28      11687       1      1      0      0\n",
       "4  68       5   14.0        69       8808       1      1      1      0"
      ]
     },
     "execution_count": 11,
     "metadata": {},
     "output_type": "execute_result"
    }
   ],
   "source": [
    "df.head(5)"
   ]
  },
  {
   "cell_type": "markdown",
   "metadata": {},
   "source": [
    "### Verify that all the data is numeric"
   ]
  },
  {
   "cell_type": "code",
   "execution_count": 12,
   "metadata": {},
   "outputs": [
    {
     "data": {
      "text/html": [
       "<div>\n",
       "<style scoped>\n",
       "    .dataframe tbody tr th:only-of-type {\n",
       "        vertical-align: middle;\n",
       "    }\n",
       "\n",
       "    .dataframe tbody tr th {\n",
       "        vertical-align: top;\n",
       "    }\n",
       "\n",
       "    .dataframe thead th {\n",
       "        text-align: right;\n",
       "    }\n",
       "</style>\n",
       "<table border=\"1\" class=\"dataframe\">\n",
       "  <thead>\n",
       "    <tr style=\"text-align: right;\">\n",
       "      <th></th>\n",
       "      <th>id</th>\n",
       "      <th>author</th>\n",
       "      <th>genre</th>\n",
       "      <th>duration</th>\n",
       "      <th>downloads</th>\n",
       "      <th>reader</th>\n",
       "      <th>tag_1</th>\n",
       "      <th>tag_2</th>\n",
       "      <th>tag_3</th>\n",
       "    </tr>\n",
       "  </thead>\n",
       "  <tbody>\n",
       "    <tr>\n",
       "      <th>0</th>\n",
       "      <td>True</td>\n",
       "      <td>True</td>\n",
       "      <td>True</td>\n",
       "      <td>True</td>\n",
       "      <td>True</td>\n",
       "      <td>True</td>\n",
       "      <td>True</td>\n",
       "      <td>True</td>\n",
       "      <td>True</td>\n",
       "    </tr>\n",
       "    <tr>\n",
       "      <th>1</th>\n",
       "      <td>True</td>\n",
       "      <td>True</td>\n",
       "      <td>True</td>\n",
       "      <td>True</td>\n",
       "      <td>True</td>\n",
       "      <td>True</td>\n",
       "      <td>True</td>\n",
       "      <td>True</td>\n",
       "      <td>True</td>\n",
       "    </tr>\n",
       "    <tr>\n",
       "      <th>2</th>\n",
       "      <td>True</td>\n",
       "      <td>True</td>\n",
       "      <td>True</td>\n",
       "      <td>True</td>\n",
       "      <td>True</td>\n",
       "      <td>True</td>\n",
       "      <td>True</td>\n",
       "      <td>True</td>\n",
       "      <td>True</td>\n",
       "    </tr>\n",
       "    <tr>\n",
       "      <th>3</th>\n",
       "      <td>True</td>\n",
       "      <td>True</td>\n",
       "      <td>True</td>\n",
       "      <td>True</td>\n",
       "      <td>True</td>\n",
       "      <td>True</td>\n",
       "      <td>True</td>\n",
       "      <td>True</td>\n",
       "      <td>True</td>\n",
       "    </tr>\n",
       "    <tr>\n",
       "      <th>4</th>\n",
       "      <td>True</td>\n",
       "      <td>True</td>\n",
       "      <td>True</td>\n",
       "      <td>True</td>\n",
       "      <td>True</td>\n",
       "      <td>True</td>\n",
       "      <td>True</td>\n",
       "      <td>True</td>\n",
       "      <td>True</td>\n",
       "    </tr>\n",
       "  </tbody>\n",
       "</table>\n",
       "</div>"
      ],
      "text/plain": [
       "     id  author  genre  duration  downloads  reader  tag_1  tag_2  tag_3\n",
       "0  True    True   True      True       True    True   True   True   True\n",
       "1  True    True   True      True       True    True   True   True   True\n",
       "2  True    True   True      True       True    True   True   True   True\n",
       "3  True    True   True      True       True    True   True   True   True\n",
       "4  True    True   True      True       True    True   True   True   True"
      ]
     },
     "execution_count": 12,
     "metadata": {},
     "output_type": "execute_result"
    }
   ],
   "source": [
    "df.applymap(lambda x: isinstance(x, (int, float))).head(5)"
   ]
  },
  {
   "cell_type": "markdown",
   "metadata": {},
   "source": [
    "## Check for correlated features\n",
    "\n",
    "Correlated features don't add any information, since they are expressing the same data in different ways."
   ]
  },
  {
   "cell_type": "code",
   "execution_count": 13,
   "metadata": {},
   "outputs": [],
   "source": [
    "def plot_correlation(df, size = 12):\n",
    "    corr = df.corr()\n",
    "    fig, ax = plt.subplots(figsize = (size, size))\n",
    "    ax.matshow(corr) # color code the rectangles by correlation value\n",
    "    plt.xticks(range(len(corr.columns)), corr.columns)\n",
    "    plt.yticks(range(len(corr.columns)), corr.columns)"
   ]
  },
  {
   "cell_type": "code",
   "execution_count": 14,
   "metadata": {
    "scrolled": false
   },
   "outputs": [
    {
     "data": {
      "image/png": "[encoded data removed]",
      "text/plain": [
       "<Figure size 720x720 with 1 Axes>"
      ]
     },
     "metadata": {
      "needs_background": "light"
     },
     "output_type": "display_data"
    }
   ],
   "source": [
    "plot_correlation(df, 10)"
   ]
  },
  {
   "cell_type": "markdown",
   "metadata": {},
   "source": [
    "## Scale features"
   ]
  },
  {
   "cell_type": "markdown",
   "metadata": {},
   "source": [
    "### Check for outliers\n",
    "\n",
    "If there is no outliers, we could use Max-Min Scaling"
   ]
  },
  {
   "cell_type": "code",
   "execution_count": 15,
   "metadata": {},
   "outputs": [
    {
     "data": {
      "image/png": "[encoded data removed]",
      "text/plain": [
       "<Figure size 432x288 with 1 Axes>"
      ]
     },
     "metadata": {
      "needs_background": "light"
     },
     "output_type": "display_data"
    }
   ],
   "source": [
    "x = df.duration\n",
    "y = df.downloads\n",
    "\n",
    "plt.scatter(x, y)\n",
    "plt.show()"
   ]
  },
  {
   "cell_type": "markdown",
   "metadata": {},
   "source": [
    "We are going to use Z-Score Scaling"
   ]
  },
  {
   "cell_type": "code",
   "execution_count": 16,
   "metadata": {},
   "outputs": [
    {
     "name": "stderr",
     "output_type": "stream",
     "text": [
      "C:\\Users\\Artem\\Anaconda3\\lib\\site-packages\\sklearn\\preprocessing\\data.py:645: DataConversionWarning: Data with input dtype int64 were all converted to float64 by StandardScaler.\n",
      "  return self.partial_fit(X, y)\n",
      "C:\\Users\\Artem\\Anaconda3\\lib\\site-packages\\sklearn\\base.py:464: DataConversionWarning: Data with input dtype int64 were all converted to float64 by StandardScaler.\n",
      "  return self.fit(X, **fit_params).transform(X)\n"
     ]
    }
   ],
   "source": [
    "from sklearn.preprocessing import StandardScaler\n",
    "\n",
    "df_ss = StandardScaler().fit_transform(df.loc[:, 'duration':'downloads'])"
   ]
  },
  {
   "cell_type": "code",
   "execution_count": 17,
   "metadata": {},
   "outputs": [],
   "source": [
    "df_ss = pd.DataFrame(df_ss)\n",
    "df_ss.columns = ['duration', 'downloads']"
   ]
  },
  {
   "cell_type": "code",
   "execution_count": 18,
   "metadata": {},
   "outputs": [
    {
     "data": {
      "image/png": "[encoded data removed]",
      "text/plain": [
       "<Figure size 432x288 with 1 Axes>"
      ]
     },
     "metadata": {
      "needs_background": "light"
     },
     "output_type": "display_data"
    }
   ],
   "source": [
    "x = df_ss.duration\n",
    "y = df_ss.downloads\n",
    "\n",
    "plt.scatter(x, y)\n",
    "plt.show()"
   ]
  },
  {
   "cell_type": "code",
   "execution_count": 19,
   "metadata": {
    "scrolled": false
   },
   "outputs": [],
   "source": [
    "df_scaled = pd.concat([df.loc[:, 'id':'genre'], df_ss], axis = 1)\n",
    "df_scaled = pd.concat([df_scaled, df.loc[:, 'reader':'tag_3']], axis = 1)"
   ]
  },
  {
   "cell_type": "code",
   "execution_count": 20,
   "metadata": {},
   "outputs": [
    {
     "data": {
      "text/html": [
       "<div>\n",
       "<style scoped>\n",
       "    .dataframe tbody tr th:only-of-type {\n",
       "        vertical-align: middle;\n",
       "    }\n",
       "\n",
       "    .dataframe tbody tr th {\n",
       "        vertical-align: top;\n",
       "    }\n",
       "\n",
       "    .dataframe thead th {\n",
       "        text-align: right;\n",
       "    }\n",
       "</style>\n",
       "<table border=\"1\" class=\"dataframe\">\n",
       "  <thead>\n",
       "    <tr style=\"text-align: right;\">\n",
       "      <th></th>\n",
       "      <th>id</th>\n",
       "      <th>author</th>\n",
       "      <th>genre</th>\n",
       "      <th>duration</th>\n",
       "      <th>downloads</th>\n",
       "      <th>reader</th>\n",
       "      <th>tag_1</th>\n",
       "      <th>tag_2</th>\n",
       "      <th>tag_3</th>\n",
       "    </tr>\n",
       "  </thead>\n",
       "  <tbody>\n",
       "    <tr>\n",
       "      <th>0</th>\n",
       "      <td>24</td>\n",
       "      <td>2</td>\n",
       "      <td>4.0</td>\n",
       "      <td>-0.122300</td>\n",
       "      <td>-0.040597</td>\n",
       "      <td>2</td>\n",
       "      <td>1</td>\n",
       "      <td>0</td>\n",
       "      <td>0</td>\n",
       "    </tr>\n",
       "    <tr>\n",
       "      <th>1</th>\n",
       "      <td>61</td>\n",
       "      <td>3</td>\n",
       "      <td>14.0</td>\n",
       "      <td>0.033991</td>\n",
       "      <td>-0.040416</td>\n",
       "      <td>1</td>\n",
       "      <td>1</td>\n",
       "      <td>1</td>\n",
       "      <td>0</td>\n",
       "    </tr>\n",
       "    <tr>\n",
       "      <th>2</th>\n",
       "      <td>66</td>\n",
       "      <td>4</td>\n",
       "      <td>4.0</td>\n",
       "      <td>-0.233937</td>\n",
       "      <td>-0.040397</td>\n",
       "      <td>2</td>\n",
       "      <td>1</td>\n",
       "      <td>0</td>\n",
       "      <td>0</td>\n",
       "    </tr>\n",
       "    <tr>\n",
       "      <th>3</th>\n",
       "      <td>67</td>\n",
       "      <td>5</td>\n",
       "      <td>6.0</td>\n",
       "      <td>-0.300919</td>\n",
       "      <td>-0.040542</td>\n",
       "      <td>1</td>\n",
       "      <td>1</td>\n",
       "      <td>0</td>\n",
       "      <td>0</td>\n",
       "    </tr>\n",
       "    <tr>\n",
       "      <th>4</th>\n",
       "      <td>68</td>\n",
       "      <td>5</td>\n",
       "      <td>14.0</td>\n",
       "      <td>-0.072064</td>\n",
       "      <td>-0.040575</td>\n",
       "      <td>1</td>\n",
       "      <td>1</td>\n",
       "      <td>1</td>\n",
       "      <td>0</td>\n",
       "    </tr>\n",
       "  </tbody>\n",
       "</table>\n",
       "</div>"
      ],
      "text/plain": [
       "   id  author  genre  duration  downloads  reader  tag_1  tag_2  tag_3\n",
       "0  24       2    4.0 -0.122300  -0.040597       2      1      0      0\n",
       "1  61       3   14.0  0.033991  -0.040416       1      1      1      0\n",
       "2  66       4    4.0 -0.233937  -0.040397       2      1      0      0\n",
       "3  67       5    6.0 -0.300919  -0.040542       1      1      0      0\n",
       "4  68       5   14.0 -0.072064  -0.040575       1      1      1      0"
      ]
     },
     "execution_count": 20,
     "metadata": {},
     "output_type": "execute_result"
    }
   ],
   "source": [
    "df_scaled.head(5)"
   ]
  },
  {
   "cell_type": "code",
   "execution_count": 21,
   "metadata": {},
   "outputs": [],
   "source": [
    "df = df_scaled"
   ]
  },
  {
   "cell_type": "markdown",
   "metadata": {},
   "source": [
    "## Apply KMeans"
   ]
  },
  {
   "cell_type": "code",
   "execution_count": 22,
   "metadata": {},
   "outputs": [
    {
     "data": {
      "text/plain": [
       "KMeans(algorithm='auto', copy_x=True, init='k-means++', max_iter=300,\n",
       "    n_clusters=3, n_init=10, n_jobs=None, precompute_distances='auto',\n",
       "    random_state=None, tol=0.0001, verbose=0)"
      ]
     },
     "execution_count": 22,
     "metadata": {},
     "output_type": "execute_result"
    }
   ],
   "source": [
    "from sklearn.cluster import KMeans\n",
    "\n",
    "kmeans = KMeans(n_clusters=3)\n",
    "kmeans.fit(df.loc[:, 'author' : 'tag_3'])"
   ]
  },
  {
   "cell_type": "code",
   "execution_count": 23,
   "metadata": {},
   "outputs": [],
   "source": [
    "df.loc[:,'label'] = kmeans.labels_"
   ]
  },
  {
   "cell_type": "code",
   "execution_count": 24,
   "metadata": {
    "scrolled": true
   },
   "outputs": [
    {
     "data": {
      "text/html": [
       "<div>\n",
       "<style scoped>\n",
       "    .dataframe tbody tr th:only-of-type {\n",
       "        vertical-align: middle;\n",
       "    }\n",
       "\n",
       "    .dataframe tbody tr th {\n",
       "        vertical-align: top;\n",
       "    }\n",
       "\n",
       "    .dataframe thead th {\n",
       "        text-align: right;\n",
       "    }\n",
       "</style>\n",
       "<table border=\"1\" class=\"dataframe\">\n",
       "  <thead>\n",
       "    <tr style=\"text-align: right;\">\n",
       "      <th></th>\n",
       "      <th>id</th>\n",
       "      <th>author</th>\n",
       "      <th>genre</th>\n",
       "      <th>duration</th>\n",
       "      <th>downloads</th>\n",
       "      <th>reader</th>\n",
       "      <th>tag_1</th>\n",
       "      <th>tag_2</th>\n",
       "      <th>tag_3</th>\n",
       "      <th>label</th>\n",
       "    </tr>\n",
       "  </thead>\n",
       "  <tbody>\n",
       "    <tr>\n",
       "      <th>0</th>\n",
       "      <td>24</td>\n",
       "      <td>2</td>\n",
       "      <td>4.0</td>\n",
       "      <td>-0.122300</td>\n",
       "      <td>-0.040597</td>\n",
       "      <td>2</td>\n",
       "      <td>1</td>\n",
       "      <td>0</td>\n",
       "      <td>0</td>\n",
       "      <td>1</td>\n",
       "    </tr>\n",
       "    <tr>\n",
       "      <th>1</th>\n",
       "      <td>61</td>\n",
       "      <td>3</td>\n",
       "      <td>14.0</td>\n",
       "      <td>0.033991</td>\n",
       "      <td>-0.040416</td>\n",
       "      <td>1</td>\n",
       "      <td>1</td>\n",
       "      <td>1</td>\n",
       "      <td>0</td>\n",
       "      <td>1</td>\n",
       "    </tr>\n",
       "    <tr>\n",
       "      <th>2</th>\n",
       "      <td>66</td>\n",
       "      <td>4</td>\n",
       "      <td>4.0</td>\n",
       "      <td>-0.233937</td>\n",
       "      <td>-0.040397</td>\n",
       "      <td>2</td>\n",
       "      <td>1</td>\n",
       "      <td>0</td>\n",
       "      <td>0</td>\n",
       "      <td>1</td>\n",
       "    </tr>\n",
       "    <tr>\n",
       "      <th>3</th>\n",
       "      <td>67</td>\n",
       "      <td>5</td>\n",
       "      <td>6.0</td>\n",
       "      <td>-0.300919</td>\n",
       "      <td>-0.040542</td>\n",
       "      <td>1</td>\n",
       "      <td>1</td>\n",
       "      <td>0</td>\n",
       "      <td>0</td>\n",
       "      <td>1</td>\n",
       "    </tr>\n",
       "    <tr>\n",
       "      <th>4</th>\n",
       "      <td>68</td>\n",
       "      <td>5</td>\n",
       "      <td>14.0</td>\n",
       "      <td>-0.072064</td>\n",
       "      <td>-0.040575</td>\n",
       "      <td>1</td>\n",
       "      <td>1</td>\n",
       "      <td>1</td>\n",
       "      <td>0</td>\n",
       "      <td>1</td>\n",
       "    </tr>\n",
       "  </tbody>\n",
       "</table>\n",
       "</div>"
      ],
      "text/plain": [
       "   id  author  genre  duration  downloads  reader  tag_1  tag_2  tag_3  label\n",
       "0  24       2    4.0 -0.122300  -0.040597       2      1      0      0      1\n",
       "1  61       3   14.0  0.033991  -0.040416       1      1      1      0      1\n",
       "2  66       4    4.0 -0.233937  -0.040397       2      1      0      0      1\n",
       "3  67       5    6.0 -0.300919  -0.040542       1      1      0      0      1\n",
       "4  68       5   14.0 -0.072064  -0.040575       1      1      1      0      1"
      ]
     },
     "execution_count": 24,
     "metadata": {},
     "output_type": "execute_result"
    }
   ],
   "source": [
    "df.head(5)"
   ]
  },
  {
   "cell_type": "code",
   "execution_count": 28,
   "metadata": {
    "scrolled": false
   },
   "outputs": [
    {
     "data": {
      "text/plain": [
       "Text(0.5, 0, 'duration')"
      ]
     },
     "execution_count": 28,
     "metadata": {},
     "output_type": "execute_result"
    },
    {
     "data": {
      "image/png": "[encoded data removed]",
      "text/plain": [
       "<Figure size 432x288 with 1 Axes>"
      ]
     },
     "metadata": {
      "needs_background": "light"
     },
     "output_type": "display_data"
    }
   ],
   "source": [
    "from mpl_toolkits.mplot3d import Axes3D\n",
    "\n",
    "fig = plt.figure()\n",
    "ax = fig.add_subplot(111, projection='3d')\n",
    "\n",
    "ax.scatter(df.loc[:, 'author'], df.loc[:, 'genre'], df.loc[:, 'duration'], c=df.loc[:,'label'], s=50, cmap='viridis')\n",
    "ax.set_xlabel('author')\n",
    "ax.set_ylabel('genre')\n",
    "ax.set_zlabel('duration')"
   ]
  },
  {
   "cell_type": "markdown",
   "metadata": {},
   "source": [
    "### Fails because we have categorical data - groups authors with sequential ids together"
   ]
  },
  {
   "cell_type": "markdown",
   "metadata": {},
   "source": [
    "### Print groups"
   ]
  },
  {
   "cell_type": "code",
   "execution_count": 29,
   "metadata": {},
   "outputs": [
    {
     "data": {
      "text/plain": [
       "label\n",
       "0    [1102, 1145, 1160, 1173, 1176, 1180, 1193, 119...\n",
       "1    [24, 61, 66, 67, 68, 70, 72, 74, 77, 78, 79, 8...\n",
       "2    [3447, 3448, 3471, 3475, 3476, 3489, 3491, 349...\n",
       "Name: id, dtype: object"
      ]
     },
     "execution_count": 29,
     "metadata": {},
     "output_type": "execute_result"
    }
   ],
   "source": [
    "groups = df_scaled.groupby('label')\n",
    "groups['id'].apply(lambda ids: [id for id in ids])"
   ]
  },
  {
   "cell_type": "markdown",
   "metadata": {},
   "source": [
    "## Apply K-prototype"
   ]
  },
  {
   "cell_type": "code",
   "execution_count": 34,
   "metadata": {
    "scrolled": false
   },
   "outputs": [
    {
     "name": "stdout",
     "output_type": "stream",
     "text": [
      "Init: initializing centroids\n",
      "Init: initializing clusters\n",
      "Starting iterations...\n",
      "Run: 1, iteration: 1/100, moves: 1380, ncost: 5498.961419828531\n",
      "Run: 1, iteration: 2/100, moves: 416, ncost: 5401.841846357239\n",
      "Run: 1, iteration: 3/100, moves: 133, ncost: 5373.26235094348\n",
      "Run: 1, iteration: 4/100, moves: 4, ncost: 5373.19912017952\n",
      "Run: 1, iteration: 5/100, moves: 1, ncost: 5373.191054210851\n",
      "Run: 1, iteration: 6/100, moves: 0, ncost: 5373.191054210851\n",
      "Init: initializing centroids\n",
      "Init: initializing clusters\n",
      "Starting iterations...\n",
      "Run: 2, iteration: 1/100, moves: 1777, ncost: 8741.728305331402\n",
      "Run: 2, iteration: 2/100, moves: 199, ncost: 8660.173648305676\n",
      "Run: 2, iteration: 3/100, moves: 44, ncost: 8649.711689039472\n",
      "Run: 2, iteration: 4/100, moves: 8, ncost: 8649.19993418435\n",
      "Run: 2, iteration: 5/100, moves: 3, ncost: 8649.102831509108\n",
      "Run: 2, iteration: 6/100, moves: 5, ncost: 8648.954194546153\n",
      "Run: 2, iteration: 7/100, moves: 0, ncost: 8648.954194546153\n",
      "Init: initializing centroids\n",
      "Init: initializing clusters\n",
      "Starting iterations...\n",
      "Run: 3, iteration: 1/100, moves: 882, ncost: 5482.738676295638\n",
      "Run: 3, iteration: 2/100, moves: 91, ncost: 5417.221705798671\n",
      "Run: 3, iteration: 3/100, moves: 46, ncost: 5379.315223266424\n",
      "Run: 3, iteration: 4/100, moves: 23, ncost: 5358.498528082668\n",
      "Run: 3, iteration: 5/100, moves: 34, ncost: 5331.352696389259\n",
      "Run: 3, iteration: 6/100, moves: 30, ncost: 5320.889524729859\n",
      "Run: 3, iteration: 7/100, moves: 6, ncost: 5320.417047288788\n",
      "Run: 3, iteration: 8/100, moves: 2, ncost: 5320.401153862927\n",
      "Run: 3, iteration: 9/100, moves: 0, ncost: 5320.401153862927\n",
      "Init: initializing centroids\n",
      "Init: initializing clusters\n",
      "Init: initializing centroids\n",
      "Init: initializing clusters\n",
      "Starting iterations...\n",
      "Run: 4, iteration: 1/100, moves: 1249, ncost: 5456.67433667539\n",
      "Run: 4, iteration: 2/100, moves: 60, ncost: 5453.741010144649\n",
      "Run: 4, iteration: 3/100, moves: 1, ncost: 5453.732962465156\n",
      "Run: 4, iteration: 4/100, moves: 0, ncost: 5453.732962465156\n",
      "Init: initializing centroids\n",
      "Init: initializing clusters\n",
      "Init: initializing centroids\n",
      "Init: initializing clusters\n",
      "Init: initializing centroids\n",
      "Init: initializing clusters\n",
      "Init: initializing centroids\n",
      "Init: initializing clusters\n",
      "Init: initializing centroids\n",
      "Init: initializing clusters\n",
      "Starting iterations...\n",
      "Run: 5, iteration: 1/100, moves: 1074, ncost: 8717.607659785177\n",
      "Run: 5, iteration: 2/100, moves: 479, ncost: 8553.029710159539\n",
      "Run: 5, iteration: 3/100, moves: 50, ncost: 8549.20846546363\n",
      "Run: 5, iteration: 4/100, moves: 3, ncost: 8549.103657277908\n",
      "Run: 5, iteration: 5/100, moves: 1, ncost: 8549.089859805024\n",
      "Run: 5, iteration: 6/100, moves: 0, ncost: 8549.089859805024\n",
      "Init: initializing centroids\n",
      "Init: initializing clusters\n",
      "Init: initializing centroids\n",
      "Init: initializing clusters\n",
      "Init: initializing centroids\n",
      "Init: initializing clusters\n",
      "Init: initializing centroids\n",
      "Init: initializing clusters\n",
      "Init: initializing centroids\n",
      "Init: initializing clusters\n",
      "Starting iterations...\n",
      "Run: 6, iteration: 1/100, moves: 805, ncost: 5586.355867099734\n",
      "Run: 6, iteration: 2/100, moves: 669, ncost: 5423.019958238489\n",
      "Run: 6, iteration: 3/100, moves: 386, ncost: 5350.9314374653995\n",
      "Run: 6, iteration: 4/100, moves: 42, ncost: 5347.852336555431\n",
      "Run: 6, iteration: 5/100, moves: 86, ncost: 5337.623269745678\n",
      "Run: 6, iteration: 6/100, moves: 9, ncost: 5337.498789902447\n",
      "Run: 6, iteration: 7/100, moves: 5, ncost: 5337.358470187099\n",
      "Run: 6, iteration: 8/100, moves: 0, ncost: 5337.358470187099\n",
      "Init: initializing centroids\n",
      "Init: initializing clusters\n",
      "Starting iterations...\n",
      "Run: 7, iteration: 1/100, moves: 723, ncost: 8733.308059780393\n",
      "Run: 7, iteration: 2/100, moves: 165, ncost: 8701.69485174126\n",
      "Run: 7, iteration: 3/100, moves: 77, ncost: 8692.842818179019\n",
      "Run: 7, iteration: 4/100, moves: 4, ncost: 8692.672033460352\n",
      "Run: 7, iteration: 5/100, moves: 1, ncost: 8692.66418445701\n",
      "Run: 7, iteration: 6/100, moves: 0, ncost: 8692.66418445701\n",
      "Init: initializing centroids\n",
      "Init: initializing clusters\n",
      "Starting iterations...\n",
      "Run: 8, iteration: 1/100, moves: 919, ncost: 8785.613894805896\n",
      "Run: 8, iteration: 2/100, moves: 803, ncost: 8476.206763223701\n",
      "Run: 8, iteration: 3/100, moves: 181, ncost: 8408.840349855365\n",
      "Run: 8, iteration: 4/100, moves: 9, ncost: 8407.475133697293\n",
      "Run: 8, iteration: 5/100, moves: 5, ncost: 8407.40149472414\n",
      "Run: 8, iteration: 6/100, moves: 3, ncost: 8407.383767142288\n",
      "Run: 8, iteration: 7/100, moves: 2, ncost: 8407.379885436372\n",
      "Run: 8, iteration: 8/100, moves: 0, ncost: 8407.379885436372\n",
      "Init: initializing centroids\n",
      "Init: initializing clusters\n",
      "Starting iterations...\n",
      "Run: 9, iteration: 1/100, moves: 750, ncost: 8619.403621128458\n",
      "Run: 9, iteration: 2/100, moves: 414, ncost: 8521.707894923467\n",
      "Run: 9, iteration: 3/100, moves: 213, ncost: 8481.35440777836\n",
      "Run: 9, iteration: 4/100, moves: 44, ncost: 8479.179115964824\n",
      "Run: 9, iteration: 5/100, moves: 7, ncost: 8478.993401855034\n",
      "Run: 9, iteration: 6/100, moves: 0, ncost: 8478.993401855034\n",
      "Init: initializing centroids\n",
      "Init: initializing clusters\n",
      "Init: initializing centroids\n",
      "Init: initializing clusters\n",
      "Starting iterations...\n",
      "Run: 10, iteration: 1/100, moves: 691, ncost: 5503.237584943092\n",
      "Run: 10, iteration: 2/100, moves: 107, ncost: 5424.2810434383355\n",
      "Run: 10, iteration: 3/100, moves: 44, ncost: 5382.715440520188\n",
      "Run: 10, iteration: 4/100, moves: 29, ncost: 5361.56995399624\n",
      "Run: 10, iteration: 5/100, moves: 36, ncost: 5331.634717232776\n",
      "Run: 10, iteration: 6/100, moves: 32, ncost: 5320.889524729858\n",
      "Run: 10, iteration: 7/100, moves: 6, ncost: 5320.417047288787\n",
      "Run: 10, iteration: 8/100, moves: 2, ncost: 5320.4011538629275\n",
      "Run: 10, iteration: 9/100, moves: 0, ncost: 5320.4011538629275\n",
      "Best run was number 3\n"
     ]
    }
   ],
   "source": [
    "from kmodes.kprototypes import KPrototypes\n",
    "\n",
    "kproto = KPrototypes(n_clusters=5, init='Cao', verbose=1)\n",
    "clusters = kproto.fit_predict(df.loc[:, 'author' : 'tag_3'], categorical=[0, 1, 4])"
   ]
  },
  {
   "cell_type": "code",
   "execution_count": 35,
   "metadata": {},
   "outputs": [],
   "source": [
    "df.loc[:,'label1'] = clusters"
   ]
  },
  {
   "cell_type": "code",
   "execution_count": 36,
   "metadata": {},
   "outputs": [
    {
     "data": {
      "text/html": [
       "<div>\n",
       "<style scoped>\n",
       "    .dataframe tbody tr th:only-of-type {\n",
       "        vertical-align: middle;\n",
       "    }\n",
       "\n",
       "    .dataframe tbody tr th {\n",
       "        vertical-align: top;\n",
       "    }\n",
       "\n",
       "    .dataframe thead th {\n",
       "        text-align: right;\n",
       "    }\n",
       "</style>\n",
       "<table border=\"1\" class=\"dataframe\">\n",
       "  <thead>\n",
       "    <tr style=\"text-align: right;\">\n",
       "      <th></th>\n",
       "      <th>id</th>\n",
       "      <th>author</th>\n",
       "      <th>genre</th>\n",
       "      <th>duration</th>\n",
       "      <th>downloads</th>\n",
       "      <th>reader</th>\n",
       "      <th>tag_1</th>\n",
       "      <th>tag_2</th>\n",
       "      <th>tag_3</th>\n",
       "      <th>label</th>\n",
       "      <th>label1</th>\n",
       "    </tr>\n",
       "  </thead>\n",
       "  <tbody>\n",
       "    <tr>\n",
       "      <th>0</th>\n",
       "      <td>24</td>\n",
       "      <td>2</td>\n",
       "      <td>4.0</td>\n",
       "      <td>-0.122300</td>\n",
       "      <td>-0.040597</td>\n",
       "      <td>2</td>\n",
       "      <td>1</td>\n",
       "      <td>0</td>\n",
       "      <td>0</td>\n",
       "      <td>1</td>\n",
       "      <td>4</td>\n",
       "    </tr>\n",
       "    <tr>\n",
       "      <th>1</th>\n",
       "      <td>61</td>\n",
       "      <td>3</td>\n",
       "      <td>14.0</td>\n",
       "      <td>0.033991</td>\n",
       "      <td>-0.040416</td>\n",
       "      <td>1</td>\n",
       "      <td>1</td>\n",
       "      <td>1</td>\n",
       "      <td>0</td>\n",
       "      <td>1</td>\n",
       "      <td>1</td>\n",
       "    </tr>\n",
       "    <tr>\n",
       "      <th>2</th>\n",
       "      <td>66</td>\n",
       "      <td>4</td>\n",
       "      <td>4.0</td>\n",
       "      <td>-0.233937</td>\n",
       "      <td>-0.040397</td>\n",
       "      <td>2</td>\n",
       "      <td>1</td>\n",
       "      <td>0</td>\n",
       "      <td>0</td>\n",
       "      <td>1</td>\n",
       "      <td>4</td>\n",
       "    </tr>\n",
       "    <tr>\n",
       "      <th>3</th>\n",
       "      <td>67</td>\n",
       "      <td>5</td>\n",
       "      <td>6.0</td>\n",
       "      <td>-0.300919</td>\n",
       "      <td>-0.040542</td>\n",
       "      <td>1</td>\n",
       "      <td>1</td>\n",
       "      <td>0</td>\n",
       "      <td>0</td>\n",
       "      <td>1</td>\n",
       "      <td>4</td>\n",
       "    </tr>\n",
       "    <tr>\n",
       "      <th>4</th>\n",
       "      <td>68</td>\n",
       "      <td>5</td>\n",
       "      <td>14.0</td>\n",
       "      <td>-0.072064</td>\n",
       "      <td>-0.040575</td>\n",
       "      <td>1</td>\n",
       "      <td>1</td>\n",
       "      <td>1</td>\n",
       "      <td>0</td>\n",
       "      <td>1</td>\n",
       "      <td>1</td>\n",
       "    </tr>\n",
       "  </tbody>\n",
       "</table>\n",
       "</div>"
      ],
      "text/plain": [
       "   id  author  genre  duration  downloads  reader  tag_1  tag_2  tag_3  label  \\\n",
       "0  24       2    4.0 -0.122300  -0.040597       2      1      0      0      1   \n",
       "1  61       3   14.0  0.033991  -0.040416       1      1      1      0      1   \n",
       "2  66       4    4.0 -0.233937  -0.040397       2      1      0      0      1   \n",
       "3  67       5    6.0 -0.300919  -0.040542       1      1      0      0      1   \n",
       "4  68       5   14.0 -0.072064  -0.040575       1      1      1      0      1   \n",
       "\n",
       "   label1  \n",
       "0       4  \n",
       "1       1  \n",
       "2       4  \n",
       "3       4  \n",
       "4       1  "
      ]
     },
     "execution_count": 36,
     "metadata": {},
     "output_type": "execute_result"
    }
   ],
   "source": [
    "df.head(5)"
   ]
  },
  {
   "cell_type": "code",
   "execution_count": 37,
   "metadata": {},
   "outputs": [
    {
     "data": {
      "text/plain": [
       "Text(0.5, 0, 'duration')"
      ]
     },
     "execution_count": 37,
     "metadata": {},
     "output_type": "execute_result"
    },
    {
     "data": {
      "image/png": "[encoded data removed]",
      "text/plain": [
       "<Figure size 432x288 with 1 Axes>"
      ]
     },
     "metadata": {
      "needs_background": "light"
     },
     "output_type": "display_data"
    }
   ],
   "source": [
    "from mpl_toolkits.mplot3d import Axes3D\n",
    "\n",
    "fig = plt.figure()\n",
    "ax = fig.add_subplot(111, projection='3d')\n",
    "\n",
    "ax.scatter(df.loc[:, 'author'], df.loc[:, 'genre'], df.loc[:, 'duration'], c=df.loc[:,'label1'], s=50, cmap='viridis')\n",
    "ax.set_xlabel('author')\n",
    "ax.set_ylabel('genre')\n",
    "ax.set_zlabel('duration')"
   ]
  },
  {
   "cell_type": "markdown",
   "metadata": {},
   "source": [
    "### Print groups"
   ]
  },
  {
   "cell_type": "code",
   "execution_count": 38,
   "metadata": {},
   "outputs": [
    {
     "data": {
      "text/plain": [
       "label1\n",
       "0    [78, 86, 229, 246, 282, 300, 304, 317, 363, 41...\n",
       "1    [61, 68, 70, 74, 80, 81, 82, 83, 84, 85, 91, 9...\n",
       "2                 [1885, 2339, 2460, 2467, 2483, 2515]\n",
       "3    [516, 538, 787, 810, 922, 1057, 1284, 1382, 15...\n",
       "4    [24, 66, 67, 72, 77, 79, 87, 90, 92, 103, 106,...\n",
       "Name: id, dtype: object"
      ]
     },
     "execution_count": 38,
     "metadata": {},
     "output_type": "execute_result"
    }
   ],
   "source": [
    "groups = df_scaled.groupby('label1')\n",
    "booksingrups = groups['id'].apply(lambda ids: [id for id in ids])\n",
    "booksingrups"
   ]
  },
  {
   "cell_type": "markdown",
   "metadata": {},
   "source": [
    "## Save results to file"
   ]
  },
  {
   "cell_type": "code",
   "execution_count": 39,
   "metadata": {},
   "outputs": [],
   "source": [
    "# booksingrups.to_csv('clusters.out')"
   ]
  }
 ],
 "metadata": {
  "kernelspec": {
   "display_name": "Python 3",
   "language": "python",
   "name": "python3"
  },
  "language_info": {
   "codemirror_mode": {
    "name": "ipython",
    "version": 3
   },
   "file_extension": ".py",
   "mimetype": "text/x-python",
   "name": "python",
   "nbconvert_exporter": "python",
   "pygments_lexer": "ipython3",
   "version": "3.7.3"
  }
 },
 "nbformat": 4,
 "nbformat_minor": 2
}
